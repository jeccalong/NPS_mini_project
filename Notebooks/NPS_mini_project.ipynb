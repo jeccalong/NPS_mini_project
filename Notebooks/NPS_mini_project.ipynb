{
 "cells": [
  {
   "cell_type": "markdown",
   "id": "976ec8e4",
   "metadata": {},
   "source": [
    "Get started with required imports:"
   ]
  },
  {
   "cell_type": "code",
   "execution_count": 1,
   "id": "e193758e",
   "metadata": {},
   "outputs": [],
   "source": [
    "import pandas as pd\n",
    "\n",
    "import numpy as np\n",
    "\n",
    "import matplotlib.pyplot as plt\n",
    "\n",
    "import requests, os, time\n",
    "\n",
    "from dotenv import load_dotenv"
   ]
  },
  {
   "cell_type": "markdown",
   "id": "8ef3b073",
   "metadata": {},
   "source": [
    "Load API key from .env and run a sanity check to confirm value is present."
   ]
  },
  {
   "cell_type": "code",
   "execution_count": 2,
   "id": "55392cb7",
   "metadata": {},
   "outputs": [
    {
     "name": "stdout",
     "output_type": "stream",
     "text": [
      "True\n"
     ]
    }
   ],
   "source": [
    "API_KEY = os.getenv(\"NPS_API_KEY\")\n",
    "\n",
    "print(API_KEY is not None)"
   ]
  },
  {
   "cell_type": "code",
   "execution_count": 3,
   "id": "05840986",
   "metadata": {},
   "outputs": [
    {
     "data": {
      "text/html": [
       "<div>\n",
       "<style scoped>\n",
       "    .dataframe tbody tr th:only-of-type {\n",
       "        vertical-align: middle;\n",
       "    }\n",
       "\n",
       "    .dataframe tbody tr th {\n",
       "        vertical-align: top;\n",
       "    }\n",
       "\n",
       "    .dataframe thead th {\n",
       "        text-align: right;\n",
       "    }\n",
       "</style>\n",
       "<table border=\"1\" class=\"dataframe\">\n",
       "  <thead>\n",
       "    <tr style=\"text-align: right;\">\n",
       "      <th></th>\n",
       "      <th>Incident Date</th>\n",
       "      <th>Park Name</th>\n",
       "      <th>Cause of Death</th>\n",
       "      <th>Cause of Death Group \\n(Used in the NPS Mortality Dashboard)</th>\n",
       "      <th>Intent</th>\n",
       "      <th>Outcome</th>\n",
       "      <th>Sex</th>\n",
       "      <th>Age Range</th>\n",
       "      <th>Activity</th>\n",
       "    </tr>\n",
       "  </thead>\n",
       "  <tbody>\n",
       "    <tr>\n",
       "      <th>0</th>\n",
       "      <td>2007-01-01</td>\n",
       "      <td>Glen Canyon National Recreation Area</td>\n",
       "      <td>Undetermined</td>\n",
       "      <td>Undetermined</td>\n",
       "      <td>Undetermined</td>\n",
       "      <td>Fatal injury</td>\n",
       "      <td>Male</td>\n",
       "      <td>65+</td>\n",
       "      <td>Not Reported</td>\n",
       "    </tr>\n",
       "    <tr>\n",
       "      <th>1</th>\n",
       "      <td>2007-01-22</td>\n",
       "      <td>Golden Gate National Recreation Area</td>\n",
       "      <td>Drowning</td>\n",
       "      <td>Drowning</td>\n",
       "      <td>Unintentional</td>\n",
       "      <td>Fatal injury</td>\n",
       "      <td>Male</td>\n",
       "      <td>Not Reported</td>\n",
       "      <td>Vessel Related</td>\n",
       "    </tr>\n",
       "    <tr>\n",
       "      <th>2</th>\n",
       "      <td>2007-01-22</td>\n",
       "      <td>Golden Gate National Recreation Area</td>\n",
       "      <td>Undetermined</td>\n",
       "      <td>Undetermined</td>\n",
       "      <td>Undetermined</td>\n",
       "      <td>Fatal injury</td>\n",
       "      <td>Male</td>\n",
       "      <td>Not Reported</td>\n",
       "      <td>Vessel Related</td>\n",
       "    </tr>\n",
       "    <tr>\n",
       "      <th>3</th>\n",
       "      <td>2007-01-29</td>\n",
       "      <td>Natchez Trace Parkway</td>\n",
       "      <td>Motor Vehicle Crash</td>\n",
       "      <td>Motor Vehicle Crash</td>\n",
       "      <td>Unintentional</td>\n",
       "      <td>Fatal injury</td>\n",
       "      <td>Female</td>\n",
       "      <td>15-24</td>\n",
       "      <td>Driving</td>\n",
       "    </tr>\n",
       "    <tr>\n",
       "      <th>4</th>\n",
       "      <td>2007-01-29</td>\n",
       "      <td>Natchez Trace Parkway</td>\n",
       "      <td>Motor Vehicle Crash</td>\n",
       "      <td>Motor Vehicle Crash</td>\n",
       "      <td>Unintentional</td>\n",
       "      <td>Fatal injury</td>\n",
       "      <td>Female</td>\n",
       "      <td>45-54</td>\n",
       "      <td>Driving</td>\n",
       "    </tr>\n",
       "  </tbody>\n",
       "</table>\n",
       "</div>"
      ],
      "text/plain": [
       "  Incident Date                             Park Name       Cause of Death  \\\n",
       "0    2007-01-01  Glen Canyon National Recreation Area         Undetermined   \n",
       "1    2007-01-22  Golden Gate National Recreation Area             Drowning   \n",
       "2    2007-01-22  Golden Gate National Recreation Area         Undetermined   \n",
       "3    2007-01-29                 Natchez Trace Parkway  Motor Vehicle Crash   \n",
       "4    2007-01-29                 Natchez Trace Parkway  Motor Vehicle Crash   \n",
       "\n",
       "  Cause of Death Group \\n(Used in the NPS Mortality Dashboard)   \\\n",
       "0                                       Undetermined              \n",
       "1                                           Drowning              \n",
       "2                                       Undetermined              \n",
       "3                                Motor Vehicle Crash              \n",
       "4                                Motor Vehicle Crash              \n",
       "\n",
       "          Intent       Outcome     Sex     Age Range        Activity  \n",
       "0   Undetermined  Fatal injury    Male           65+    Not Reported  \n",
       "1  Unintentional  Fatal injury    Male  Not Reported  Vessel Related  \n",
       "2   Undetermined  Fatal injury    Male  Not Reported  Vessel Related  \n",
       "3  Unintentional  Fatal injury  Female         15-24        Driving   \n",
       "4  Unintentional  Fatal injury  Female         45-54        Driving   "
      ]
     },
     "execution_count": 3,
     "metadata": {},
     "output_type": "execute_result"
    }
   ],
   "source": [
    "df = pd.ExcelFile(r\"../data/NPS-Mortality-Data-CY2007-to-CY2024-Released-August-2024.xlsx\")\n",
    "df = df.parse(sheet_name=\"CY2007-Present Q2\")\n",
    "df.head()"
   ]
  },
  {
   "cell_type": "markdown",
   "id": "a5e7c3e7",
   "metadata": {},
   "source": [
    "Use .info() to get a look at the column names, datatypes, and counts."
   ]
  },
  {
   "cell_type": "code",
   "execution_count": 4,
   "id": "2852b74e",
   "metadata": {},
   "outputs": [
    {
     "name": "stdout",
     "output_type": "stream",
     "text": [
      "<class 'pandas.core.frame.DataFrame'>\n",
      "RangeIndex: 4635 entries, 0 to 4634\n",
      "Data columns (total 9 columns):\n",
      " #   Column                                                        Non-Null Count  Dtype         \n",
      "---  ------                                                        --------------  -----         \n",
      " 0   Incident Date                                                 4635 non-null   datetime64[ns]\n",
      " 1   Park Name                                                     4635 non-null   object        \n",
      " 2   Cause of Death                                                4635 non-null   object        \n",
      " 3   Cause of Death Group \n",
      "(Used in the NPS Mortality Dashboard)   4635 non-null   object        \n",
      " 4   Intent                                                        4635 non-null   object        \n",
      " 5   Outcome                                                       4635 non-null   object        \n",
      " 6   Sex                                                           4635 non-null   object        \n",
      " 7   Age Range                                                     4623 non-null   object        \n",
      " 8   Activity                                                      4635 non-null   object        \n",
      "dtypes: datetime64[ns](1), object(8)\n",
      "memory usage: 326.0+ KB\n"
     ]
    }
   ],
   "source": [
    "df.info()"
   ]
  },
  {
   "cell_type": "markdown",
   "id": "19c4d542",
   "metadata": {},
   "source": [
    "Print a list of the columns that may be easier to reference."
   ]
  },
  {
   "cell_type": "code",
   "execution_count": 5,
   "id": "31872693",
   "metadata": {},
   "outputs": [
    {
     "name": "stdout",
     "output_type": "stream",
     "text": [
      "Index(['Incident Date', 'Park Name', 'Cause of Death',\n",
      "       'Cause of Death Group \\n(Used in the NPS Mortality Dashboard) ',\n",
      "       'Intent', 'Outcome', 'Sex', 'Age Range', 'Activity'],\n",
      "      dtype='object')\n"
     ]
    }
   ],
   "source": [
    "print(df.columns)"
   ]
  },
  {
   "cell_type": "markdown",
   "id": "8ce2aa06",
   "metadata": {},
   "source": [
    "I'm going to look more closely at the \"Cause of death\" and \"Cause of Death Group \\n...\" columns to see if this data is redundant, or if I need to use both in my analysis.\n",
    "\n",
    "Check if all values in all rows and columns are the same."
   ]
  },
  {
   "cell_type": "code",
   "execution_count": 6,
   "id": "c57a9aef",
   "metadata": {},
   "outputs": [
    {
     "data": {
      "text/plain": [
       "np.False_"
      ]
     },
     "execution_count": 6,
     "metadata": {},
     "output_type": "execute_result"
    }
   ],
   "source": [
    "(df[\"Cause of Death\"] == df[\"Cause of Death Group \\n(Used in the NPS Mortality Dashboard) \"]).all()"
   ]
  },
  {
   "cell_type": "markdown",
   "id": "365bba3e",
   "metadata": {},
   "source": [
    "Since the are not duplicates, I'm going to build a mask to count how many mismatches are in the data."
   ]
  },
  {
   "cell_type": "code",
   "execution_count": 7,
   "id": "52eaa692",
   "metadata": {},
   "outputs": [
    {
     "name": "stdout",
     "output_type": "stream",
     "text": [
      "Total rows: 4635\n",
      "494\n"
     ]
    }
   ],
   "source": [
    "mask_mismatch = df[\"Cause of Death\"] != df[\"Cause of Death Group \\n(Used in the NPS Mortality Dashboard) \"]\n",
    "print(\"Total rows:\", len(df))\n",
    "print(mask_mismatch.sum())"
   ]
  },
  {
   "cell_type": "markdown",
   "id": "6210484a",
   "metadata": {},
   "source": [
    "I'm going to look at some of the mismatches to see what the differences are."
   ]
  },
  {
   "cell_type": "code",
   "execution_count": 8,
   "id": "aed6cdcf",
   "metadata": {},
   "outputs": [
    {
     "data": {
      "text/html": [
       "<div>\n",
       "<style scoped>\n",
       "    .dataframe tbody tr th:only-of-type {\n",
       "        vertical-align: middle;\n",
       "    }\n",
       "\n",
       "    .dataframe tbody tr th {\n",
       "        vertical-align: top;\n",
       "    }\n",
       "\n",
       "    .dataframe thead th {\n",
       "        text-align: right;\n",
       "    }\n",
       "</style>\n",
       "<table border=\"1\" class=\"dataframe\">\n",
       "  <thead>\n",
       "    <tr style=\"text-align: right;\">\n",
       "      <th></th>\n",
       "      <th>Cause of Death</th>\n",
       "      <th>Cause of Death Group \\n(Used in the NPS Mortality Dashboard)</th>\n",
       "    </tr>\n",
       "  </thead>\n",
       "  <tbody>\n",
       "    <tr>\n",
       "      <th>8</th>\n",
       "      <td>Avalanche</td>\n",
       "      <td>Environmental</td>\n",
       "    </tr>\n",
       "    <tr>\n",
       "      <th>9</th>\n",
       "      <td>Vessel Incident</td>\n",
       "      <td>Other Transportation</td>\n",
       "    </tr>\n",
       "    <tr>\n",
       "      <th>46</th>\n",
       "      <td>Vessel Incident</td>\n",
       "      <td>Other Transportation</td>\n",
       "    </tr>\n",
       "    <tr>\n",
       "      <th>48</th>\n",
       "      <td>Bicycle only crash</td>\n",
       "      <td>Other Transportation</td>\n",
       "    </tr>\n",
       "    <tr>\n",
       "      <th>56</th>\n",
       "      <td>Poisoning - Drugs</td>\n",
       "      <td>Poisoning</td>\n",
       "    </tr>\n",
       "    <tr>\n",
       "      <th>65</th>\n",
       "      <td>Poisoning - Drugs</td>\n",
       "      <td>Poisoning</td>\n",
       "    </tr>\n",
       "    <tr>\n",
       "      <th>76</th>\n",
       "      <td>Poisoning - Carbon monoxide</td>\n",
       "      <td>Poisoning</td>\n",
       "    </tr>\n",
       "    <tr>\n",
       "      <th>90</th>\n",
       "      <td>Hypothermia</td>\n",
       "      <td>Environmental</td>\n",
       "    </tr>\n",
       "    <tr>\n",
       "      <th>97</th>\n",
       "      <td>Firearm</td>\n",
       "      <td>Other</td>\n",
       "    </tr>\n",
       "    <tr>\n",
       "      <th>112</th>\n",
       "      <td>Bicycle only crash</td>\n",
       "      <td>Other Transportation</td>\n",
       "    </tr>\n",
       "    <tr>\n",
       "      <th>118</th>\n",
       "      <td>Aircraft Incident</td>\n",
       "      <td>Other Transportation</td>\n",
       "    </tr>\n",
       "    <tr>\n",
       "      <th>119</th>\n",
       "      <td>Aircraft Incident</td>\n",
       "      <td>Other Transportation</td>\n",
       "    </tr>\n",
       "    <tr>\n",
       "      <th>120</th>\n",
       "      <td>Aircraft Incident</td>\n",
       "      <td>Other Transportation</td>\n",
       "    </tr>\n",
       "    <tr>\n",
       "      <th>121</th>\n",
       "      <td>Aircraft Incident</td>\n",
       "      <td>Other Transportation</td>\n",
       "    </tr>\n",
       "    <tr>\n",
       "      <th>131</th>\n",
       "      <td>Hypothermia</td>\n",
       "      <td>Environmental</td>\n",
       "    </tr>\n",
       "    <tr>\n",
       "      <th>138</th>\n",
       "      <td>Avalanche</td>\n",
       "      <td>Environmental</td>\n",
       "    </tr>\n",
       "    <tr>\n",
       "      <th>144</th>\n",
       "      <td>Avalanche</td>\n",
       "      <td>Environmental</td>\n",
       "    </tr>\n",
       "    <tr>\n",
       "      <th>146</th>\n",
       "      <td>Horseback riding incident</td>\n",
       "      <td>Other Transportation</td>\n",
       "    </tr>\n",
       "    <tr>\n",
       "      <th>154</th>\n",
       "      <td>Firearm</td>\n",
       "      <td>Other</td>\n",
       "    </tr>\n",
       "    <tr>\n",
       "      <th>155</th>\n",
       "      <td>Firearm</td>\n",
       "      <td>Other</td>\n",
       "    </tr>\n",
       "  </tbody>\n",
       "</table>\n",
       "</div>"
      ],
      "text/plain": [
       "                  Cause of Death  \\\n",
       "8                      Avalanche   \n",
       "9               Vessel Incident    \n",
       "46              Vessel Incident    \n",
       "48            Bicycle only crash   \n",
       "56             Poisoning - Drugs   \n",
       "65             Poisoning - Drugs   \n",
       "76   Poisoning - Carbon monoxide   \n",
       "90                   Hypothermia   \n",
       "97                       Firearm   \n",
       "112           Bicycle only crash   \n",
       "118           Aircraft Incident    \n",
       "119           Aircraft Incident    \n",
       "120           Aircraft Incident    \n",
       "121           Aircraft Incident    \n",
       "131                  Hypothermia   \n",
       "138                    Avalanche   \n",
       "144                    Avalanche   \n",
       "146    Horseback riding incident   \n",
       "154                      Firearm   \n",
       "155                      Firearm   \n",
       "\n",
       "    Cause of Death Group \\n(Used in the NPS Mortality Dashboard)   \n",
       "8                                        Environmental             \n",
       "9                                 Other Transportation             \n",
       "46                                Other Transportation             \n",
       "48                                Other Transportation             \n",
       "56                                           Poisoning             \n",
       "65                                           Poisoning             \n",
       "76                                           Poisoning             \n",
       "90                                       Environmental             \n",
       "97                                               Other             \n",
       "112                               Other Transportation             \n",
       "118                               Other Transportation             \n",
       "119                               Other Transportation             \n",
       "120                               Other Transportation             \n",
       "121                               Other Transportation             \n",
       "131                                      Environmental             \n",
       "138                                      Environmental             \n",
       "144                                      Environmental             \n",
       "146                               Other Transportation             \n",
       "154                                              Other             \n",
       "155                                              Other             "
      ]
     },
     "execution_count": 8,
     "metadata": {},
     "output_type": "execute_result"
    }
   ],
   "source": [
    "df.loc[mask_mismatch, [\"Cause of Death\", \"Cause of Death Group \\n(Used in the NPS Mortality Dashboard) \"]].head(20)"
   ]
  },
  {
   "cell_type": "markdown",
   "id": "ba255583",
   "metadata": {},
   "source": [
    "It seems like I will be able to use the \"Cause of Death\" column and ignore the group column in my analysis. I'm going to look more closely at the cause of death column now."
   ]
  },
  {
   "cell_type": "code",
   "execution_count": 9,
   "id": "04f77cb7",
   "metadata": {},
   "outputs": [
    {
     "data": {
      "text/plain": [
       "Cause of Death\n",
       "Aircraft Incident                          31\n",
       "Aircraft incident                          46\n",
       "Altitude                                    1\n",
       "Asphyxiation                                7\n",
       "Avalanche                                  41\n",
       "Bicycle only crash                         23\n",
       "Collapsing earth/sand                       2\n",
       "Drowning                                  864\n",
       "Electrocution                               4\n",
       "Fall                                      505\n",
       "Falling Ice                                 2\n",
       "Falling tree/branch                        21\n",
       "Fire/Burn                                   3\n",
       "Fire/burn                                   2\n",
       "Firearm                                     5\n",
       "Flash flood                                14\n",
       "Homicide                                   51\n",
       "Horseback riding Incident                   1\n",
       "Horseback riding incident                   3\n",
       "Hyperthermia                               83\n",
       "Hypothermia                                46\n",
       "Legal Intervention                          2\n",
       "Lightning Strike                            4\n",
       "Lightning strike                            6\n",
       "Medical - During physical activity        318\n",
       "Medical - Not during physical activity    240\n",
       "Medical - Unknown                          82\n",
       "Motor Vehicle Crash                       831\n",
       "Other                                       6\n",
       "Poisoning - Carbon monoxide                 6\n",
       "Poisoning - Drugs                          21\n",
       "Poisoning - alcohol                         4\n",
       "Poisoning - drugs                          24\n",
       "Poisoning - other                           1\n",
       "Rockfall                                   20\n",
       "Skateboard Incident                         2\n",
       "Skiing Incident                             5\n",
       "Snowboard Incident                          1\n",
       "Snowmobile Incident                         1\n",
       "Struck by/against                           2\n",
       "Suicide                                   648\n",
       "Train crash                                 4\n",
       "Trolly crash                                1\n",
       "Undetermined                              593\n",
       "Vessel Incident                            31\n",
       "Vessel Incident                            16\n",
       "Water diving incident                       1\n",
       "Widlife incident                           10\n",
       "dtype: int64"
      ]
     },
     "execution_count": 9,
     "metadata": {},
     "output_type": "execute_result"
    }
   ],
   "source": [
    "df.groupby(\"Cause of Death\").size()"
   ]
  },
  {
   "cell_type": "markdown",
   "id": "cb697e5e",
   "metadata": {},
   "source": [
    "There are some obvious duplicates in that list, so I'm going to normalize the causes to try to catch duplicates."
   ]
  },
  {
   "cell_type": "code",
   "execution_count": 10,
   "id": "2c6940e3",
   "metadata": {},
   "outputs": [],
   "source": [
    "df[\"Cause of Death\"] = df[\"Cause of Death\"].str.strip().str.lower()"
   ]
  },
  {
   "cell_type": "markdown",
   "id": "b90d756f",
   "metadata": {},
   "source": [
    "I want to see how many unique values I have now."
   ]
  },
  {
   "cell_type": "code",
   "execution_count": 11,
   "id": "7ebd6393",
   "metadata": {},
   "outputs": [
    {
     "data": {
      "text/plain": [
       "42"
      ]
     },
     "execution_count": 11,
     "metadata": {},
     "output_type": "execute_result"
    }
   ],
   "source": [
    "df[\"Cause of Death\"].nunique()"
   ]
  },
  {
   "cell_type": "markdown",
   "id": "4e27ba5b",
   "metadata": {},
   "source": [
    "I'm going to look at a list of the unique values just to see what I have since there aren't that many."
   ]
  },
  {
   "cell_type": "code",
   "execution_count": 12,
   "id": "1a65d13f",
   "metadata": {},
   "outputs": [
    {
     "name": "stdout",
     "output_type": "stream",
     "text": [
      "['aircraft incident', 'altitude', 'asphyxiation', 'avalanche', 'bicycle only crash', 'collapsing earth/sand', 'drowning', 'electrocution', 'fall', 'falling ice', 'falling tree/branch', 'fire/burn', 'firearm', 'flash flood', 'homicide', 'horseback riding incident', 'hyperthermia', 'hypothermia', 'legal intervention', 'lightning strike', 'medical - during physical activity', 'medical - not during physical activity', 'medical - unknown', 'motor vehicle crash', 'other', 'poisoning - alcohol', 'poisoning - carbon monoxide', 'poisoning - drugs', 'poisoning - other', 'rockfall', 'skateboard incident', 'skiing incident', 'snowboard incident', 'snowmobile incident', 'struck by/against', 'suicide', 'train crash', 'trolly crash', 'undetermined', 'vessel incident', 'water diving incident', 'widlife incident']\n"
     ]
    }
   ],
   "source": [
    "print(sorted(df[\"Cause of Death\"].unique()))"
   ]
  },
  {
   "cell_type": "markdown",
   "id": "70425703",
   "metadata": {},
   "source": [
    "Looking over the columns, I don't see any duplicates or names that should be changed right now. I'm going to change them back to have an uppercase character."
   ]
  },
  {
   "cell_type": "code",
   "execution_count": 13,
   "id": "da858c5f",
   "metadata": {},
   "outputs": [
    {
     "name": "stdout",
     "output_type": "stream",
     "text": [
      "0              Undetermined\n",
      "1                  Drowning\n",
      "2              Undetermined\n",
      "3       Motor Vehicle Crash\n",
      "4       Motor Vehicle Crash\n",
      "               ...         \n",
      "4630    Motor Vehicle Crash\n",
      "4631    Motor Vehicle Crash\n",
      "4632                Suicide\n",
      "4633           Undetermined\n",
      "4634           Undetermined\n",
      "Name: Cause of Death, Length: 4635, dtype: object\n"
     ]
    }
   ],
   "source": [
    "df[\"Cause of Death\"] = df[\"Cause of Death\"].str.title()\n",
    "print(df[\"Cause of Death\"])"
   ]
  },
  {
   "cell_type": "markdown",
   "id": "4b8cccf1",
   "metadata": {},
   "source": [
    "Now that I know what column to use and I have eliminated case mismatches, I'm going to build a plot to just look at the causes of death."
   ]
  },
  {
   "cell_type": "markdown",
   "id": "332b1a8c",
   "metadata": {},
   "source": [
    "I want to show the major causes of death. This will calculate the percentage of deaths attributed to each cause, and also group causes accounting for <5% of deaths be combined into an \"other\" category to avoid cluttering the plot. The variables defined here will be used in the plot."
   ]
  },
  {
   "cell_type": "code",
   "execution_count": 14,
   "id": "547bab80",
   "metadata": {},
   "outputs": [],
   "source": [
    "cause_counts = df[\"Cause of Death\"].value_counts(dropna=False)\n",
    "percentages  = cause_counts / cause_counts.sum() * 100\n",
    "\n",
    "major_causes = percentages[percentages >= 5].copy()\n",
    "other_total  = percentages[percentages < 5].sum()\n",
    "if other_total > 0:\n",
    "    major_causes.loc[\"Other\"] = other_total"
   ]
  },
  {
   "cell_type": "markdown",
   "id": "a3ec688d",
   "metadata": {},
   "source": [
    "I'm going to define my color palette to be used with this plot. I'm also going to set the colors up be the same for both medical cause deaths."
   ]
  },
  {
   "cell_type": "code",
   "execution_count": 15,
   "id": "8ff5b58d",
   "metadata": {},
   "outputs": [],
   "source": [
    "okabe_ito = [\n",
    "    \"#E69F00\",\n",
    "    \"#56B4E9\",\n",
    "    \"#009E73\",\n",
    "    \"#F0E442\",\n",
    "    \"#0072B2\",\n",
    "    \"#D55E00\",\n",
    "    \"#CC79A7\", \n",
    "]\n",
    "OTHER_GREY = \"#9e9e9e\"\n",
    "\n",
    "def color_for_label(lbl):\n",
    "    s = str(lbl).strip().lower()\n",
    "    if s == \"other\":\n",
    "        return OTHER_GREY\n",
    "\n",
    "    if \"medical\" in s:\n",
    "        return \"#E69F00\"  # orange\n",
    "    return None\n",
    "\n"
   ]
  },
  {
   "cell_type": "markdown",
   "id": "7a55b334",
   "metadata": {},
   "source": [
    "Now that the colors are defined, I'll build a for loop to cycle through the unused options."
   ]
  },
  {
   "cell_type": "code",
   "execution_count": 16,
   "id": "5f885f05",
   "metadata": {},
   "outputs": [],
   "source": [
    "used = {c for c in [color_for_label(x) for x in major_causes.index] if c}\n",
    "remaining = [c for c in okabe_ito if c not in used]\n",
    "colors = []\n",
    "idx = 0\n",
    "for lbl in major_causes.index:\n",
    "    c = color_for_label(lbl)\n",
    "    if c is None:\n",
    "        c = remaining[idx % len(remaining)]\n",
    "        idx += 1\n",
    "    colors.append(c)"
   ]
  },
  {
   "cell_type": "markdown",
   "id": "f8ad0f1c",
   "metadata": {},
   "source": [
    "Now I'm going to create a pie chart that shows the major causes of death."
   ]
  },
  {
   "cell_type": "code",
   "execution_count": 17,
   "id": "17f97315",
   "metadata": {},
   "outputs": [
    {
     "data": {
      "image/png": "[encoded data removed]",
      "text/plain": [
       "<Figure size 800x800 with 1 Axes>"
      ]
     },
     "metadata": {},
     "output_type": "display_data"
    }
   ],
   "source": [
    "fig, ax = plt.subplots(figsize=(8, 8))\n",
    "wedges, texts, autotexts = ax.pie(\n",
    "    major_causes.values,\n",
    "    labels=major_causes.index,\n",
    "    colors=colors,\n",
    "    autopct=\"%1.1f%%\",\n",
    "    wedgeprops={\"linewidth\": 1.0, \"edgecolor\": \"white\"},\n",
    "    startangle=90\n",
    ")\n",
    "for t in texts:\n",
    "    t.set_color(\"#111111\")\n",
    "    t.set_fontsize(11)\n",
    "\n",
    "for t in autotexts:\n",
    "    t.set_fontsize(11)\n",
    "    t.set_color(\"#111111\")\n",
    "  \n",
    "\n",
    "ax.set_title(\"Major Causes of Death in NPS Territories\")\n",
    "\n",
    "plt.tight_layout()\n",
    "plt.show()\n"
   ]
  },
  {
   "cell_type": "markdown",
   "id": "b8b53b8e",
   "metadata": {},
   "source": [
    "Drowning is the most frequent cause of death, so I'm going to look at that more closely to see if there are any common threads. I'm going to look at the number of drownings in each territory/park to see if there are any outliers. First, I'm going to normalize the park names to check for any case mismatches."
   ]
  },
  {
   "cell_type": "markdown",
   "id": "3742a36e",
   "metadata": {},
   "source": [
    "I know that I want to use data from other NPS datasets along with this information. I also know that there are 3 major sources (NPS Mortality Dataset, IRMA API, and NPS Data API) and the park name is inconsistent across all 3. The API datasets both use a 4 letter code that is  consistent. I'm going to use one of the APIs to match the names of the parks in the mortality dataset to the appropriate park code so that I may query either database for info with the 4 letter code."
   ]
  }
 ],
 "metadata": {
  "kernelspec": {
   "display_name": ".venv",
   "language": "python",
   "name": "python3"
  },
  "language_info": {
   "codemirror_mode": {
    "name": "ipython",
    "version": 3
   },
   "file_extension": ".py",
   "mimetype": "text/x-python",
   "name": "python",
   "nbconvert_exporter": "python",
   "pygments_lexer": "ipython3",
   "version": "3.13.1"
  }
 },
 "nbformat": 4,
 "nbformat_minor": 5
}
